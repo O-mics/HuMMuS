{
 "cells": [
  {
   "cell_type": "code",
   "execution_count": 20,
   "id": "cbc4c0ca-c995-4cc1-992a-a3ba17b34245",
   "metadata": {},
   "outputs": [],
   "source": [
    "import typing\n",
    "import yaml\n",
    "\n",
    "\n",
    "def make_values_list(values, types=(str, bool, int, float)):\n",
    "    \"\"\"Transform layer type to be sure a list of values is returned.\"\"\"\n",
    "    if type(values) == list:\n",
    "        return values\n",
    "    elif type(values)==dict:\n",
    "        return list(values.values())\n",
    "    elif type(values) in types:\n",
    "        return [values]\n",
    "    else:\n",
    "        raise TypeError('Layer name(s) {} should be given through a {},'.format(values, types)+\\\n",
    "                        'a list, or a dictionary(where the key would be the file_paths)')\n",
    "\n",
    "\n",
    "def group_per_layer(\n",
    "        multiplex_list\n",
    "        ):\n",
    "    \"\"\"Group multiplex info per layer.\n",
    "\n",
    "    Structure returned:\n",
    "    {multiplex1: [layer1, layer2, ...],\n",
    "     multiplex2: [layer1, layer2, ...]}\n",
    "\n",
    "    \"\"\"\n",
    "    print(multiplex_list)\n",
    "    multiplex_organised = dict()\n",
    "    for multiplex_name in multiplex_list:\n",
    "        # we instanciata a dict for each multiplex network\n",
    "        multiplex_organised[multiplex_name] = dict()\n",
    "        # we add the layer names\n",
    "        multiplex_organised[multiplex_name]['layers'] =\\\n",
    "            [layer for layer in multiplex_list[multiplex_name]]\n",
    "        # we add the graph type\n",
    "        multiplex_organised[multiplex_name]['graph_type'] =\\\n",
    "            [multiplex_list[multiplex_name][layer] for layer in multiplex_list[multiplex_name]]\n",
    "    return multiplex_organised\n",
    "\n",
    "\n",
    "def general_config(\n",
    "        multiplexes: dict[dict[str]],\n",
    "        bipartites: typing.Union[str, list[str], dict[str]],\n",
    "        seed_path: str = 'seeds/seeds.txt',\n",
    "        folder_multiplexes='multiplex',\n",
    "        folder_bipartites='bipartite',\n",
    "        bipartites_type: typing.Union[str, list[str], dict[str]] = '00',\n",
    "        self_loops=0,\n",
    "        restart_prob=0.7\n",
    "        ):\n",
    "\n",
    "    \"\"\"Create a very general config file for the hummus pipeline.\"\"\"\n",
    "    config = dict()\n",
    "    config['multiplex'] = dict()\n",
    "    config['bipartite'] = dict()\n",
    "    config['seed'] = seed_path\n",
    "    config['self_loops'] = self_loops\n",
    "\n",
    "    # We add the multiplexes to the config\n",
    "    for multiplex_name in multiplexes:\n",
    "        # If folder_multiplexes is None we use the multiplex name as folder name\n",
    "        config['multiplex'][multiplex_name] = dict()\n",
    "        config['multiplex'][multiplex_name]['layers'] =\\\n",
    "            [(folder_multiplexes+'/'+multiplex_name+'/'+layer).replace('//', '/')\n",
    "              for layer in multiplexes[multiplex_name]['layers']]\n",
    "        config['multiplex'][multiplex_name]['graph_type'] =\\\n",
    "            multiplexes[multiplex_name]['graph_type']\n",
    "\n",
    "        #     bipartites_type = make_values_list(bipartites_type)\n",
    "    # if type of bipartites not associated to their names already,\n",
    "    # we create a dict with the same order as the bipartites\n",
    "    if type(bipartites_type) == list:\n",
    "        temp = dict()\n",
    "        for i in range(len(bipartites)):\n",
    "            temp[list(bipartites.keys())[i]] = bipartites_type[i]\n",
    "        bipartites_type = temp\n",
    "    if type(bipartites_type) == str and len(bipartites_type)==2:\n",
    "        temp = dict()\n",
    "        for i in range(len(bipartites)):\n",
    "            temp[list(bipartites.keys())[i]] = bipartites_type\n",
    "        bipartites_type = temp\n",
    "    # we add the bipartites\n",
    "    print(type(bipartites_type))\n",
    "    for bipartite in bipartites:\n",
    "        bipartite_loc = folder_bipartites+'/'+bipartite\n",
    "        config['bipartite'][bipartite_loc] = dict()\n",
    "        config['bipartite'][bipartite_loc]['source'] = bipartites[bipartite]['multiplex_left']\n",
    "        config['bipartite'][bipartite_loc]['target'] = bipartites[bipartite]['multiplex_right']\n",
    "        config['bipartite'][bipartite_loc]['graph_type'] = bipartites_type[bipartite]\n",
    "\n",
    "    config['r'] = restart_prob\n",
    "    return config\n",
    "\n",
    "\n",
    "def save_config(config, filename):\n",
    "    with open(filename, 'w') as f:\n",
    "        yaml.dump(config, f)\n",
    "\n",
    "\n",
    "def setup_proba_config(\n",
    "        config: dict,\n",
    "        eta: list[float],\n",
    "        lamb: list[list[float]]):\n",
    "    \"\"\" Setup the RWR probability for the exploration of hummus networks\n",
    "    with the given eta and lambda values. \"\"\"\n",
    "\n",
    "    assert len(config['multiplex']) == len(eta),\\\n",
    "    'eta (length of {}) should be the same length as the number of layers ({})'\\\n",
    "        .format(len(eta), len(config['multiplex']))\n",
    "    \n",
    "    config['eta'] = eta\n",
    "    config['lambda'] = lamb\n",
    "\n",
    "    return config"
   ]
  },
  {
   "cell_type": "code",
   "execution_count": 2,
   "id": "b3aa2288-77c0-4bcd-9d56-6232640a14dc",
   "metadata": {},
   "outputs": [],
   "source": [
    "multiplex_list = {'TF': {'TF_network': '00'}, 'RNA': {'RNA_GENIE3': '00'}, 'peak_network': {'peak_network_GENIE3': '00'}}"
   ]
  },
  {
   "cell_type": "code",
   "execution_count": 4,
   "id": "54224acf-be44-4674-a5e9-7c5350618850",
   "metadata": {},
   "outputs": [
    {
     "name": "stdout",
     "output_type": "stream",
     "text": [
      "{'TF': {'TF_network': '00'}, 'RNA': {'RNA_GENIE3': '00'}, 'peak_network': {'peak_network_GENIE3': '00'}}\n"
     ]
    }
   ],
   "source": [
    "a = group_per_layer(multiplex_list)"
   ]
  },
  {
   "cell_type": "code",
   "execution_count": 6,
   "id": "24c64699-be3b-4450-ac84-32e63c967809",
   "metadata": {},
   "outputs": [
    {
     "ename": "TypeError",
     "evalue": "general_config() missing 1 required positional argument: 'bipartites'",
     "output_type": "error",
     "traceback": [
      "\u001b[0;31m---------------------------------------------------------------------------\u001b[0m",
      "\u001b[0;31mTypeError\u001b[0m                                 Traceback (most recent call last)",
      "Cell \u001b[0;32mIn[6], line 1\u001b[0m\n\u001b[0;32m----> 1\u001b[0m \u001b[43mgeneral_config\u001b[49m\u001b[43m(\u001b[49m\u001b[43ma\u001b[49m\u001b[43m)\u001b[49m\n",
      "\u001b[0;31mTypeError\u001b[0m: general_config() missing 1 required positional argument: 'bipartites'"
     ]
    }
   ],
   "source": [
    "general_config(a)"
   ]
  },
  {
   "cell_type": "code",
   "execution_count": 23,
   "id": "fb1cad50-8c04-4987-8fc9-e9da9385f64c",
   "metadata": {},
   "outputs": [],
   "source": [
    "bipartites_list = {'RNA_peak' : {'multiplex_right' : 'TF', 'multiplex_left' : 'peak'}, \n",
    "                   'TF_peak' : {'multiplex_right' : 'RNA', 'multiplex_left' : 'peak'}}"
   ]
  },
  {
   "cell_type": "code",
   "execution_count": 24,
   "id": "6a777b6b-b4e9-475e-95b7-a9f7ae10ffec",
   "metadata": {},
   "outputs": [
    {
     "name": "stdout",
     "output_type": "stream",
     "text": [
      "<class 'dict'>\n"
     ]
    },
    {
     "data": {
      "text/plain": [
       "{'multiplex': {'TF': {'layers': ['multiplex/TF/TF_network'],\n",
       "   'graph_type': ['00']},\n",
       "  'RNA': {'layers': ['multiplex/RNA/RNA_GENIE3'], 'graph_type': ['00']},\n",
       "  'peak_network': {'layers': ['multiplex/peak_network/peak_network_GENIE3'],\n",
       "   'graph_type': ['00']}},\n",
       " 'bipartite': {'bipartite/RNA_peak': {'source': 'peak',\n",
       "   'target': 'TF',\n",
       "   'graph_type': '00'},\n",
       "  'bipartite/TF_peak': {'source': 'peak',\n",
       "   'target': 'RNA',\n",
       "   'graph_type': '00'}},\n",
       " 'seed': 'seeds/seeds.txt',\n",
       " 'self_loops': 0,\n",
       " 'r': 0.7}"
      ]
     },
     "execution_count": 24,
     "metadata": {},
     "output_type": "execute_result"
    }
   ],
   "source": [
    "general_config(a, bipartites_list)"
   ]
  },
  {
   "cell_type": "code",
   "execution_count": 11,
   "id": "27f9b73a-9219-4f53-b5c0-15a8bd069452",
   "metadata": {},
   "outputs": [
    {
     "data": {
      "text/plain": [
       "{'RNA_peak': {'multiplex_right': 'TF', 'mutliplex_left': 'peak'},\n",
       " 'TF_peak': {'multiplex_right': 'RNA', 'mutliplex_left': 'peak'}}"
      ]
     },
     "execution_count": 11,
     "metadata": {},
     "output_type": "execute_result"
    }
   ],
   "source": [
    "bipartites_list"
   ]
  },
  {
   "cell_type": "code",
   "execution_count": null,
   "id": "277f4a20-59c1-49af-b82f-3eb9d3ad0c90",
   "metadata": {},
   "outputs": [],
   "source": []
  }
 ],
 "metadata": {
  "kernelspec": {
   "display_name": "Python 3 (ipykernel)",
   "language": "python",
   "name": "python3"
  },
  "language_info": {
   "codemirror_mode": {
    "name": "ipython",
    "version": 3
   },
   "file_extension": ".py",
   "mimetype": "text/x-python",
   "name": "python",
   "nbconvert_exporter": "python",
   "pygments_lexer": "ipython3",
   "version": "3.10.9"
  }
 },
 "nbformat": 4,
 "nbformat_minor": 5
}
